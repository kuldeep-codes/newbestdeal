{
 "cells": [
  {
   "cell_type": "markdown",
   "metadata": {},
   "source": [
    "## K-Nearest Neighbor Algoritm ###\n",
    "KNN is a classification algorithm. It is basic to understand. \n",
    "\n",
    "K is the number of neighbors you want to look at. Algorithm looks at the classes of nearest k points and classify the point if a class have more points that are nearest to point. "
   ]
  },
  {
   "cell_type": "markdown",
   "metadata": {},
   "source": [
    "### Import Libraries ###\n",
    "I will only use numpy for math and matplotlib for graphs. I will not use any ML libraries."
   ]
  },
  {
   "cell_type": "code",
   "execution_count": 77,
   "metadata": {
    "collapsed": true
   },
   "outputs": [],
   "source": [
    "import numpy as np\n",
    "import matplotlib.pyplot as plt\n",
    "\n",
    "# Use matplotlib in Jupyter Notebook Outputs\n",
    "%matplotlib inline"
   ]
  },
  {
   "cell_type": "markdown",
   "metadata": {},
   "source": [
    "### Define Data ###\n",
    "For this example I will use fake data, but for better understanding, my data is the accaptance of student to a university and their SAT Score and GPA."
   ]
  },
  {
   "cell_type": "code",
   "execution_count": 78,
   "metadata": {
    "collapsed": true
   },
   "outputs": [],
   "source": [
    "# Input data - [SAT Score, GPA]\n",
    "X = [[1590,2.9], [1540,2.7], [1600,2.6], [1590,2.7], [1520,2.5], [1540,2.4], [1560,2.3], [1490,2.3], [1510,2.4],\n",
    "     [1350,3.9], [1360,3.7], [1370,3.8], [1380,3.7], [1410,3.6], [1420,3.9], [1430,3.4], [1450,3.7], [1460,3.2],\n",
    "     [1590,3.9], [1540,3.7], [1600,3.6], [1490,3.7], [1520,3.5], [1540,3.4], [1560,3.3], [1460,3.3], [1510,3.4],\n",
    "     [1340,2.9], [1360,2.4], [1320,2.5], [1380,2.6], [1400,2.1], [1320,2.5], [1310,2.7], [1410,2.1], [1305,2.5],\n",
    "     [1460,2.7], [1500,2.9], [1300,3.5], [1320,3.6], [1400,2.7], [1300,3.1], [1350,3.1], [1360,2.9], [1305,3.9], \n",
    "     [1430,3.0], [1440,2.3], [1440,2.5], [1380,2.1], [1430,2.1], [1400,2.5], [1420,2.3], [1310,2.1], [1350,2.0]]\n",
    "\n",
    "# Labels - Accepted or Rejected\n",
    "Y = ['accepted','accepted','accepted','accepted','accepted','accepted','accepted','accepted','accepted',\n",
    "     'accepted','accepted','accepted','accepted','accepted','accepted','accepted','accepted','accepted',\n",
    "     'accepted','accepted','accepted','accepted','accepted','accepted','accepted','accepted','accepted',\n",
    "     'rejected','rejected','rejected','rejected','rejected','rejected','rejected','rejected','rejected',\n",
    "     'rejected','rejected','rejected','rejected','rejected','rejected','rejected','rejected','rejected',\n",
    "     'rejected','rejected','rejected','rejected','rejected','rejected','rejected','rejected','rejected']"
   ]
  },
  {
   "cell_type": "markdown",
   "metadata": {},
   "source": [
    "### Plot data to a 2d graph ###\n",
    "Let's see our data on a graph. I like to see data on graphs. It helps me to understand the problem better when there is an error."
   ]
  },
  {
   "cell_type": "code",
   "execution_count": 79,
   "metadata": {},
   "outputs": [
    {
     "data": {
      "text/plain": [
       "[]"
      ]
     },
     "execution_count": 79,
     "metadata": {},
     "output_type": "execute_result"
    },
    {
     "data": {
      "image/png": "[encoded data removed]",
      "text/plain": [
       "<matplotlib.figure.Figure at 0x111a60208>"
      ]
     },
     "metadata": {},
     "output_type": "display_data"
    }
   ],
   "source": [
    "for i in range(len(X)):\n",
    "    if Y[i] == 'accepted':\n",
    "        plt.scatter(X[i][0], X[i][1], s=120, marker='P', linewidths=2, color='green')\n",
    "    else:\n",
    "        plt.scatter(X[i][0], X[i][1], s=120, marker='P', linewidths=2, color='red')\n",
    "        \n",
    "plt.plot()"
   ]
  },
  {
   "cell_type": "markdown",
   "metadata": {},
   "source": [
    "### Helper Functions ###"
   ]
  },
  {
   "cell_type": "code",
   "execution_count": 80,
   "metadata": {
    "collapsed": true
   },
   "outputs": [],
   "source": [
    "# Find which variable is the most in an array of variables\n",
    "def most_found(array):\n",
    "    list_of_words = []\n",
    "    for i in range(len(array)):\n",
    "        if array[i] not in list_of_words:\n",
    "            list_of_words.append(array[i])\n",
    "            \n",
    "    most_counted = ''\n",
    "    n_of_most_counted = None\n",
    "    \n",
    "    for i in range(len(list_of_words)):\n",
    "        counted = array.count(list_of_words[i])\n",
    "        if n_of_most_counted == None:\n",
    "            most_counted = list_of_words[i]\n",
    "            n_of_most_counted = counted\n",
    "        elif n_of_most_counted < counted:\n",
    "            most_counted = list_of_words[i]\n",
    "            n_of_most_counted = counted\n",
    "        elif n_of_most_counted == counted:\n",
    "            most_counted = None\n",
    "            \n",
    "    return most_counted"
   ]
  },
  {
   "cell_type": "markdown",
   "metadata": {},
   "source": [
    "### KNN Algorithm ###\n",
    "I calculated euclidean distance of every point to the new point and found labels of nearest k points. \n",
    "\n",
    "#### Euclidean Distance ####\n",
    "square root of sum of square of distance between two points in every dimension. \n",
    "<img src='euclidean-distance.png'>\n",
    "Like pythagorean theorem: a^2 + b^2 = c^2"
   ]
  },
  {
   "cell_type": "code",
   "execution_count": 81,
   "metadata": {},
   "outputs": [],
   "source": [
    "def find_neighbors(point, data, labels, k=3):\n",
    "    # How many dimentions do the space have?\n",
    "    n_of_dimensions = len(point)\n",
    "    \n",
    "    #find nearest neighbors\n",
    "    neighbors = []\n",
    "    neighbor_labels = []\n",
    "    \n",
    "    for i in range(0, k):\n",
    "        # To find it in data later, I get its order\n",
    "        nearest_neighbor_id = None\n",
    "        smallest_distance = None\n",
    "        \n",
    "        for i in range(0, len(data)):\n",
    "            eucledian_dist = 0\n",
    "            for d in range(0, n_of_dimensions):\n",
    "                dist = abs(point[d] - data[i][d])\n",
    "                eucledian_dist += dist\n",
    "                \n",
    "            eucledian_dist = np.sqrt(eucledian_dist)\n",
    "            \n",
    "            if smallest_distance == None:\n",
    "                smallest_distance = eucledian_dist\n",
    "                nearest_neighbor_id = i\n",
    "            elif smallest_distance > eucledian_dist:\n",
    "                smallest_distance = eucledian_dist\n",
    "                nearest_neighbor_id = i\n",
    "                \n",
    "        neighbors.append(data[nearest_neighbor_id])\n",
    "        neighbor_labels.append(labels[nearest_neighbor_id])\n",
    "        \n",
    "        data.remove(data[nearest_neighbor_id])\n",
    "        labels.remove(labels[nearest_neighbor_id])\n",
    "    return neighbor_labels\n",
    "\n",
    "def k_nearest_neighbor(point, data, labels, k=3):\n",
    "    \n",
    "    # If two different labels are most found, continue to search for 1 more k\n",
    "    while True:\n",
    "        neighbor_labels = find_neighbors(point, data, labels, k=k)\n",
    "        label = most_found(neighbor_labels)\n",
    "        if label != None:\n",
    "            break\n",
    "        k += 1\n",
    "        if k >= len(data):\n",
    "            break\n",
    "            \n",
    "    return label"
   ]
  },
  {
   "cell_type": "markdown",
   "metadata": {},
   "source": [
    "### Predict label using KNN ###"
   ]
  },
  {
   "cell_type": "code",
   "execution_count": 82,
   "metadata": {},
   "outputs": [
    {
     "data": {
      "text/plain": [
       "'accepted'"
      ]
     },
     "execution_count": 82,
     "metadata": {},
     "output_type": "execute_result"
    }
   ],
   "source": [
    "point = [1500, 2.3]\n",
    "k_nearest_neighbor(point, X, Y, k=5)"
   ]
  },
  {
   "cell_type": "code",
   "execution_count": null,
   "metadata": {
    "collapsed": true
   },
   "outputs": [],
   "source": []
  }
 ],
 "metadata": {
  "kernelspec": {
   "display_name": "Python 3",
   "language": "python",
   "name": "python3"
  },
  "language_info": {
   "codemirror_mode": {
    "name": "ipython",
    "version": 3
   },
   "file_extension": ".py",
   "mimetype": "text/x-python",
   "name": "python",
   "nbconvert_exporter": "python",
   "pygments_lexer": "ipython3",
   "version": "3.6.3"
  }
 },
 "nbformat": 4,
 "nbformat_minor": 2
}
