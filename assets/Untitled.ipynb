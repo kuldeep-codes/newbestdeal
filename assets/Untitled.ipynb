{
 "cells": [
  {
   "cell_type": "code",
   "execution_count": 2,
   "id": "d4888556",
   "metadata": {},
   "outputs": [],
   "source": [
    "from os import listdir\n",
    "from os.path import isfile, join\n",
    "from PIL import Image\n",
    "\n",
    "def Reformat_Image(ImageFilePath):\n",
    "        image = Image.open(ImageFilePath, 'r')\n",
    "        image_size = image.size\n",
    "        width = image_size[0]\n",
    "        height = image_size[1]\n",
    "    \n",
    "        bigside = width if width > height else height\n",
    "        background = Image.new('RGBA', (bigside, bigside), (255, 255, 255, 255))\n",
    "        offset = (int(round(((bigside - width) / 2), 0)), int(round(((bigside - height) / 2),0)))\n",
    "        background.paste(image, offset)\n",
    "        background = background.convert('RGB')\n",
    "        background.save(ImageFilePath)\n",
    "        background.close()\n",
    "        \n",
    "        \n",
    "\n",
    "mypath = './product-image/'\n",
    "\n",
    "onlyfiles = [f for f in listdir(mypath) if isfile(join(mypath, f))]\n",
    "\n",
    "for ele in onlyfiles:\n",
    "    img_path = './product-image/'+ele\n",
    "    image = Image.open(img_path, 'r')\n",
    "    image_size = image.size\n",
    "    width = image_size[0]\n",
    "    height = image_size[1]\n",
    "    if(width != height):\n",
    "        image.close()\n",
    "        !mv $img_path './product-image/tem.jpg'\n",
    "        Reformat_Image('./product-image/tem.jpg')\n",
    "        !mv './product-image/tem.jpg' $img_path\n",
    "    else:\n",
    "        image.close()"
   ]
  },
  {
   "cell_type": "code",
   "execution_count": null,
   "id": "12b7b733",
   "metadata": {},
   "outputs": [],
   "source": []
  }
 ],
 "metadata": {
  "kernelspec": {
   "display_name": "Python 3 (ipykernel)",
   "language": "python",
   "name": "python3"
  },
  "language_info": {
   "codemirror_mode": {
    "name": "ipython",
    "version": 3
   },
   "file_extension": ".py",
   "mimetype": "text/x-python",
   "name": "python",
   "nbconvert_exporter": "python",
   "pygments_lexer": "ipython3",
   "version": "3.10.1"
  }
 },
 "nbformat": 4,
 "nbformat_minor": 5
}
